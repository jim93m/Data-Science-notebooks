{
  "nbformat": 4,
  "nbformat_minor": 0,
  "metadata": {
    "kernelspec": {
      "display_name": "Python 3",
      "language": "python",
      "name": "python3"
    },
    "language_info": {
      "codemirror_mode": {
        "name": "ipython",
        "version": 3
      },
      "file_extension": ".py",
      "mimetype": "text/x-python",
      "name": "python",
      "nbconvert_exporter": "python",
      "pygments_lexer": "ipython3",
      "version": "3.7.5"
    },
    "colab": {
      "name": "RNN_Regression.ipynb",
      "provenance": []
    }
  },
  "cells": [
    {
      "cell_type": "markdown",
      "metadata": {
        "id": "GYUFGLONoAEW",
        "colab_type": "text"
      },
      "source": [
        "# RNN_Regression\n",
        "This notebook uses an RNN to predict the google stock price, based only on previous values of the timeseries."
      ]
    },
    {
      "cell_type": "code",
      "metadata": {
        "id": "YUy3iU9-n74H",
        "colab_type": "code",
        "colab": {}
      },
      "source": [
        "import numpy as np\n",
        "import matplotlib.pyplot as plt\n",
        "import pandas as pd\n",
        "from keras.models import Sequential\n",
        "from keras.layers import Dense\n",
        "from keras.layers import LSTM\n",
        "from keras.layers import Dropout\n",
        "from sklearn.preprocessing import MinMaxScaler"
      ],
      "execution_count": 0,
      "outputs": []
    },
    {
      "cell_type": "code",
      "metadata": {
        "id": "lFFipi__n74L",
        "colab_type": "code",
        "colab": {}
      },
      "source": [
        "# Loading data and grabbing the column \"Open\"\n",
        "dataset_train = pd.read_csv('Google_Stock_Price_Train.csv')\n",
        "training_set = dataset_train.iloc[: , 1:2].values"
      ],
      "execution_count": 0,
      "outputs": []
    },
    {
      "cell_type": "code",
      "metadata": {
        "id": "ecAggdBqn74P",
        "colab_type": "code",
        "colab": {},
        "outputId": "d51c8af1-8b90-4d8f-d742-d4df853db532"
      },
      "source": [
        "# Normalizing data\n",
        "sc = MinMaxScaler(feature_range = (0,1))\n",
        "training_set_scaled = sc.fit_transform(training_set)\n",
        "\n",
        "print(training_set_scaled.shape)"
      ],
      "execution_count": 0,
      "outputs": [
        {
          "output_type": "stream",
          "text": [
            "(1258, 1)\n"
          ],
          "name": "stdout"
        }
      ]
    },
    {
      "cell_type": "code",
      "metadata": {
        "id": "K-zGftdxn74T",
        "colab_type": "code",
        "colab": {}
      },
      "source": [
        "# Creating the each training instance as the 60 previous values of the timeseries and for its target \n",
        "# the next value of the series\n",
        "x_train = []\n",
        "y_train = []\n",
        "for i in range(60,1258):\n",
        "    x_train.append(training_set_scaled[i-60:i, 0])\n",
        "    y_train.append(training_set_scaled[i, 0])\n",
        "\n",
        "x_train = np.array(x_train) \n",
        "y_train = np.array(y_train) \n"
      ],
      "execution_count": 0,
      "outputs": []
    },
    {
      "cell_type": "code",
      "metadata": {
        "id": "P5yzcGNdn74V",
        "colab_type": "code",
        "colab": {}
      },
      "source": [
        "x_train = np.reshape(x_train,(x_train.shape[0], x_train.shape[1], 1))"
      ],
      "execution_count": 0,
      "outputs": []
    },
    {
      "cell_type": "code",
      "metadata": {
        "scrolled": false,
        "id": "mZYMzyRon74Z",
        "colab_type": "code",
        "colab": {},
        "outputId": "aad15c2a-ea70-497a-c31b-e786ff2159c8"
      },
      "source": [
        "# Creating the RNN model\n",
        "regressor = Sequential()\n",
        "regressor.add(LSTM(units = 50, return_sequences = True, input_shape = (x_train.shape[1], 1)))\n",
        "regressor.add(Dropout(0.2))\n",
        "regressor.add(LSTM(units = 50, return_sequences = True))\n",
        "regressor.add(Dropout(0.2))\n",
        "regressor.add(LSTM(units = 50, return_sequences = True))\n",
        "regressor.add(Dropout(0.2))\n",
        "regressor.add(LSTM(units = 50, return_sequences = False))\n",
        "regressor.add(Dropout(0.2))\n",
        "regressor.add(Dense(units = 1))"
      ],
      "execution_count": 0,
      "outputs": [
        {
          "output_type": "stream",
          "text": [
            "WARNING:tensorflow:From C:\\Users\\Jim\\Anaconda3\\envs\\python3.7\\lib\\site-packages\\keras\\backend\\tensorflow_backend.py:74: The name tf.get_default_graph is deprecated. Please use tf.compat.v1.get_default_graph instead.\n",
            "\n",
            "WARNING:tensorflow:From C:\\Users\\Jim\\Anaconda3\\envs\\python3.7\\lib\\site-packages\\keras\\backend\\tensorflow_backend.py:517: The name tf.placeholder is deprecated. Please use tf.compat.v1.placeholder instead.\n",
            "\n",
            "WARNING:tensorflow:From C:\\Users\\Jim\\Anaconda3\\envs\\python3.7\\lib\\site-packages\\keras\\backend\\tensorflow_backend.py:4138: The name tf.random_uniform is deprecated. Please use tf.random.uniform instead.\n",
            "\n",
            "WARNING:tensorflow:From C:\\Users\\Jim\\Anaconda3\\envs\\python3.7\\lib\\site-packages\\keras\\backend\\tensorflow_backend.py:133: The name tf.placeholder_with_default is deprecated. Please use tf.compat.v1.placeholder_with_default instead.\n",
            "\n",
            "WARNING:tensorflow:From C:\\Users\\Jim\\Anaconda3\\envs\\python3.7\\lib\\site-packages\\keras\\backend\\tensorflow_backend.py:3445: calling dropout (from tensorflow.python.ops.nn_ops) with keep_prob is deprecated and will be removed in a future version.\n",
            "Instructions for updating:\n",
            "Please use `rate` instead of `keep_prob`. Rate should be set to `rate = 1 - keep_prob`.\n"
          ],
          "name": "stdout"
        }
      ]
    },
    {
      "cell_type": "code",
      "metadata": {
        "id": "KvZ1s98Pn74c",
        "colab_type": "code",
        "colab": {}
      },
      "source": [
        "regressor.compile(optimizer = 'adam', loss = 'mean_squared_error', metrics=['accuracy'])"
      ],
      "execution_count": 0,
      "outputs": []
    },
    {
      "cell_type": "code",
      "metadata": {
        "id": "2ZM5t2ZAn74f",
        "colab_type": "code",
        "colab": {},
        "outputId": "40535f75-3f50-4f17-f32b-de7e3a26306c"
      },
      "source": [
        "# Trainning the model\n",
        "regressor.fit(x_train, y_train, epochs = 100, batch_size = 32)"
      ],
      "execution_count": 0,
      "outputs": [
        {
          "output_type": "stream",
          "text": [
            "WARNING:tensorflow:From C:\\Users\\Jim\\Anaconda3\\lib\\site-packages\\tensorflow\\python\\ops\\math_ops.py:3066: to_int32 (from tensorflow.python.ops.math_ops) is deprecated and will be removed in a future version.\n",
            "Instructions for updating:\n",
            "Use tf.cast instead.\n",
            "Epoch 1/100\n",
            "1198/1198 [==============================] - 12s 10ms/step - loss: 0.0484 - acc: 0.0017\n",
            "Epoch 2/100\n",
            "1198/1198 [==============================] - 7s 6ms/step - loss: 0.0066 - acc: 0.0017\n",
            "Epoch 3/100\n",
            "1198/1198 [==============================] - 6s 5ms/step - loss: 0.0059 - acc: 0.0017\n",
            "Epoch 4/100\n",
            "1198/1198 [==============================] - 6s 5ms/step - loss: 0.0053 - acc: 0.0017\n",
            "Epoch 5/100\n",
            "1198/1198 [==============================] - 6s 5ms/step - loss: 0.0055 - acc: 0.0017\n",
            "Epoch 6/100\n",
            "1198/1198 [==============================] - 6s 5ms/step - loss: 0.0049 - acc: 0.0017\n",
            "Epoch 7/100\n",
            "1198/1198 [==============================] - 7s 5ms/step - loss: 0.0049 - acc: 0.0017\n",
            "Epoch 8/100\n",
            "1198/1198 [==============================] - 7s 6ms/step - loss: 0.0047 - acc: 0.0017\n",
            "Epoch 9/100\n",
            "1198/1198 [==============================] - 7s 6ms/step - loss: 0.0041 - acc: 0.0017\n",
            "Epoch 10/100\n",
            "1198/1198 [==============================] - 8s 7ms/step - loss: 0.0041 - acc: 0.0017\n",
            "Epoch 11/100\n",
            "1198/1198 [==============================] - 7s 6ms/step - loss: 0.0044 - acc: 0.0017\n",
            "Epoch 12/100\n",
            "1198/1198 [==============================] - 7s 6ms/step - loss: 0.0042 - acc: 0.0017\n",
            "Epoch 13/100\n",
            "1198/1198 [==============================] - 6s 5ms/step - loss: 0.0044 - acc: 0.0017\n",
            "Epoch 14/100\n",
            "1198/1198 [==============================] - 6s 5ms/step - loss: 0.0041 - acc: 0.0017\n",
            "Epoch 15/100\n",
            "1198/1198 [==============================] - 6s 5ms/step - loss: 0.0038 - acc: 0.0017A: 2s - loss: 0.0035 \n",
            "Epoch 16/100\n",
            "1198/1198 [==============================] - 7s 6ms/step - loss: 0.0040 - acc: 0.0017\n",
            "Epoch 17/100\n",
            "1198/1198 [==============================] - 7s 6ms/step - loss: 0.0039 - acc: 0.0017\n",
            "Epoch 18/100\n",
            "1198/1198 [==============================] - 6s 5ms/step - loss: 0.0040 - acc: 0.0017\n",
            "Epoch 19/100\n",
            "1198/1198 [==============================] - 6s 5ms/step - loss: 0.0039 - acc: 0.0017\n",
            "Epoch 20/100\n",
            "1198/1198 [==============================] - 6s 5ms/step - loss: 0.0035 - acc: 0.0017\n",
            "Epoch 21/100\n",
            "1198/1198 [==============================] - 6s 5ms/step - loss: 0.0038 - acc: 0.0017\n",
            "Epoch 22/100\n",
            "1198/1198 [==============================] - 7s 6ms/step - loss: 0.0034 - acc: 0.0017\n",
            "Epoch 23/100\n",
            "1198/1198 [==============================] - 6s 5ms/step - loss: 0.0029 - acc: 0.0017\n",
            "Epoch 24/100\n",
            "1198/1198 [==============================] - 7s 5ms/step - loss: 0.0030 - acc: 0.0017\n",
            "Epoch 25/100\n",
            "1198/1198 [==============================] - 6s 5ms/step - loss: 0.0029 - acc: 0.0017\n",
            "Epoch 26/100\n",
            "1198/1198 [==============================] - 6s 5ms/step - loss: 0.0033 - acc: 0.0017\n",
            "Epoch 27/100\n",
            "1198/1198 [==============================] - 6s 5ms/step - loss: 0.0033 - acc: 0.0017\n",
            "Epoch 28/100\n",
            "1198/1198 [==============================] - 6s 5ms/step - loss: 0.0029 - acc: 0.0017\n",
            "Epoch 29/100\n",
            "1198/1198 [==============================] - 7s 5ms/step - loss: 0.0032 - acc: 0.0017\n",
            "Epoch 30/100\n",
            "1198/1198 [==============================] - 6s 5ms/step - loss: 0.0034 - acc: 0.0017\n",
            "Epoch 31/100\n",
            "1198/1198 [==============================] - 7s 6ms/step - loss: 0.0029 - acc: 0.0017\n",
            "Epoch 32/100\n",
            "1198/1198 [==============================] - 6s 5ms/step - loss: 0.0029 - acc: 0.0017\n",
            "Epoch 33/100\n",
            "1198/1198 [==============================] - 6s 5ms/step - loss: 0.0032 - acc: 0.0017\n",
            "Epoch 34/100\n",
            "1198/1198 [==============================] - 7s 5ms/step - loss: 0.0026 - acc: 0.0017\n",
            "Epoch 35/100\n",
            "1198/1198 [==============================] - 6s 5ms/step - loss: 0.0028 - acc: 0.0017\n",
            "Epoch 36/100\n",
            "1198/1198 [==============================] - 7s 5ms/step - loss: 0.0025 - acc: 0.0017\n",
            "Epoch 37/100\n",
            "1198/1198 [==============================] - 6s 5ms/step - loss: 0.0028 - acc: 0.0017\n",
            "Epoch 38/100\n",
            "1198/1198 [==============================] - 6s 5ms/step - loss: 0.0027 - acc: 0.0017\n",
            "Epoch 39/100\n",
            "1198/1198 [==============================] - 8s 7ms/step - loss: 0.0027 - acc: 0.0017\n",
            "Epoch 40/100\n",
            "1198/1198 [==============================] - 7s 6ms/step - loss: 0.0029 - acc: 0.0017\n",
            "Epoch 41/100\n",
            "1198/1198 [==============================] - 7s 6ms/step - loss: 0.0026 - acc: 0.0017\n",
            "Epoch 42/100\n",
            "1198/1198 [==============================] - 7s 5ms/step - loss: 0.0025 - acc: 0.0017\n",
            "Epoch 43/100\n",
            "1198/1198 [==============================] - 11s 9ms/step - loss: 0.0027 - acc: 0.0017\n",
            "Epoch 44/100\n",
            "1198/1198 [==============================] - 7s 6ms/step - loss: 0.0027 - acc: 0.0017\n",
            "Epoch 45/100\n",
            "1198/1198 [==============================] - 8s 6ms/step - loss: 0.0025 - acc: 0.0017\n",
            "Epoch 46/100\n",
            "1198/1198 [==============================] - 6s 5ms/step - loss: 0.0023 - acc: 0.0017\n",
            "Epoch 47/100\n",
            "1198/1198 [==============================] - 7s 5ms/step - loss: 0.0025 - acc: 0.0017\n",
            "Epoch 48/100\n",
            "1198/1198 [==============================] - 6s 5ms/step - loss: 0.0024 - acc: 0.0017\n",
            "Epoch 49/100\n",
            "1198/1198 [==============================] - 6s 5ms/step - loss: 0.0025 - acc: 0.0017\n",
            "Epoch 50/100\n",
            "1198/1198 [==============================] - 7s 6ms/step - loss: 0.0022 - acc: 0.0017\n",
            "Epoch 51/100\n",
            "1198/1198 [==============================] - 6s 5ms/step - loss: 0.0021 - acc: 0.0017\n",
            "Epoch 52/100\n",
            "1198/1198 [==============================] - 7s 6ms/step - loss: 0.0024 - acc: 0.0017\n",
            "Epoch 53/100\n",
            "1198/1198 [==============================] - 7s 6ms/step - loss: 0.0022 - acc: 0.0017\n",
            "Epoch 54/100\n",
            "1198/1198 [==============================] - 6s 5ms/step - loss: 0.0023 - acc: 0.0017\n",
            "Epoch 55/100\n",
            "1198/1198 [==============================] - 7s 6ms/step - loss: 0.0020 - acc: 0.0017\n",
            "Epoch 56/100\n",
            "1198/1198 [==============================] - 6s 5ms/step - loss: 0.0020 - acc: 0.0017\n",
            "Epoch 57/100\n",
            "1198/1198 [==============================] - 6s 5ms/step - loss: 0.0022 - acc: 0.0017\n",
            "Epoch 58/100\n",
            "1198/1198 [==============================] - 6s 5ms/step - loss: 0.0020 - acc: 0.0017\n",
            "Epoch 59/100\n",
            "1198/1198 [==============================] - 6s 5ms/step - loss: 0.0022 - acc: 0.0017\n",
            "Epoch 60/100\n",
            "1198/1198 [==============================] - 7s 5ms/step - loss: 0.0022 - acc: 0.0017\n",
            "Epoch 61/100\n",
            "1198/1198 [==============================] - 6s 5ms/step - loss: 0.0020 - acc: 0.0017\n",
            "Epoch 62/100\n",
            "1198/1198 [==============================] - 7s 5ms/step - loss: 0.0021 - acc: 0.0017\n",
            "Epoch 63/100\n",
            "1198/1198 [==============================] - 6s 5ms/step - loss: 0.0023 - acc: 0.0017\n",
            "Epoch 64/100\n",
            "1198/1198 [==============================] - 6s 5ms/step - loss: 0.0018 - acc: 0.0017\n",
            "Epoch 65/100\n",
            "1198/1198 [==============================] - 7s 6ms/step - loss: 0.0019 - acc: 0.0017\n",
            "Epoch 66/100\n",
            "1198/1198 [==============================] - 6s 5ms/step - loss: 0.0020 - acc: 0.0017\n",
            "Epoch 67/100\n",
            "1198/1198 [==============================] - 7s 5ms/step - loss: 0.0024 - acc: 0.0017\n",
            "Epoch 68/100\n",
            "1198/1198 [==============================] - 6s 5ms/step - loss: 0.0020 - acc: 0.0017\n",
            "Epoch 69/100\n",
            "1198/1198 [==============================] - 7s 5ms/step - loss: 0.0019 - acc: 0.0017\n",
            "Epoch 70/100\n",
            "1198/1198 [==============================] - 6s 5ms/step - loss: 0.0017 - acc: 0.0017\n",
            "Epoch 71/100\n",
            "1198/1198 [==============================] - 6s 5ms/step - loss: 0.0019 - acc: 0.0017\n",
            "Epoch 72/100\n",
            "1198/1198 [==============================] - 7s 6ms/step - loss: 0.0017 - acc: 0.0017\n",
            "Epoch 73/100\n",
            "1198/1198 [==============================] - 6s 5ms/step - loss: 0.0019 - acc: 0.0017\n",
            "Epoch 74/100\n",
            "1198/1198 [==============================] - 7s 6ms/step - loss: 0.0017 - acc: 0.0017\n",
            "Epoch 75/100\n",
            "1198/1198 [==============================] - 7s 5ms/step - loss: 0.0016 - acc: 0.0017\n",
            "Epoch 76/100\n",
            "1198/1198 [==============================] - 7s 5ms/step - loss: 0.0016 - acc: 0.0017\n",
            "Epoch 77/100\n",
            "1198/1198 [==============================] - 7s 5ms/step - loss: 0.0018 - acc: 0.0017\n",
            "Epoch 78/100\n",
            "1198/1198 [==============================] - 6s 5ms/step - loss: 0.0016 - acc: 0.0017\n",
            "Epoch 79/100\n",
            "1198/1198 [==============================] - 7s 5ms/step - loss: 0.0017 - acc: 0.0017\n",
            "Epoch 80/100\n",
            "1198/1198 [==============================] - 6s 5ms/step - loss: 0.0016 - acc: 0.0017\n",
            "Epoch 81/100\n"
          ],
          "name": "stdout"
        },
        {
          "output_type": "stream",
          "text": [
            "1198/1198 [==============================] - 6s 5ms/step - loss: 0.0018 - acc: 0.0017\n",
            "Epoch 82/100\n",
            "1198/1198 [==============================] - 6s 5ms/step - loss: 0.0014 - acc: 0.0017\n",
            "Epoch 83/100\n",
            "1198/1198 [==============================] - 6s 5ms/step - loss: 0.0016 - acc: 0.0017\n",
            "Epoch 84/100\n",
            "1198/1198 [==============================] - 6s 5ms/step - loss: 0.0018 - acc: 0.0017\n",
            "Epoch 85/100\n",
            "1198/1198 [==============================] - 6s 5ms/step - loss: 0.0015 - acc: 0.0017\n",
            "Epoch 86/100\n",
            "1198/1198 [==============================] - 6s 5ms/step - loss: 0.0016 - acc: 0.0017\n",
            "Epoch 87/100\n",
            "1198/1198 [==============================] - 6s 5ms/step - loss: 0.0017 - acc: 0.0017\n",
            "Epoch 88/100\n",
            "1198/1198 [==============================] - 6s 5ms/step - loss: 0.0015 - acc: 0.0017\n",
            "Epoch 89/100\n",
            "1198/1198 [==============================] - 7s 5ms/step - loss: 0.0014 - acc: 0.0017\n",
            "Epoch 90/100\n",
            "1198/1198 [==============================] - 6s 5ms/step - loss: 0.0014 - acc: 0.0017\n",
            "Epoch 91/100\n",
            "1198/1198 [==============================] - 6s 5ms/step - loss: 0.0018 - acc: 0.0017\n",
            "Epoch 92/100\n",
            "1198/1198 [==============================] - 7s 5ms/step - loss: 0.0016 - acc: 0.0017\n",
            "Epoch 93/100\n",
            "1198/1198 [==============================] - 6s 5ms/step - loss: 0.0014 - acc: 0.0017\n",
            "Epoch 94/100\n",
            "1198/1198 [==============================] - 6s 5ms/step - loss: 0.0014 - acc: 0.0017\n",
            "Epoch 95/100\n",
            "1198/1198 [==============================] - 7s 6ms/step - loss: 0.0014 - acc: 0.0017\n",
            "Epoch 96/100\n",
            "1198/1198 [==============================] - 6s 5ms/step - loss: 0.0014 - acc: 0.0017\n",
            "Epoch 97/100\n",
            "1198/1198 [==============================] - 7s 5ms/step - loss: 0.0015 - acc: 0.0017\n",
            "Epoch 98/100\n",
            "1198/1198 [==============================] - 6s 5ms/step - loss: 0.0014 - acc: 0.0017\n",
            "Epoch 99/100\n",
            "1198/1198 [==============================] - 7s 6ms/step - loss: 0.0014 - acc: 0.0017\n",
            "Epoch 100/100\n",
            "1198/1198 [==============================] - 6s 5ms/step - loss: 0.0013 - acc: 0.0017\n"
          ],
          "name": "stdout"
        },
        {
          "output_type": "execute_result",
          "data": {
            "text/plain": [
              "<keras.callbacks.History at 0x22738884ef0>"
            ]
          },
          "metadata": {
            "tags": []
          },
          "execution_count": 9
        }
      ]
    },
    {
      "cell_type": "code",
      "metadata": {
        "id": "Rt88lrnVn74i",
        "colab_type": "code",
        "colab": {}
      },
      "source": [
        "# Loading test data\n",
        "dataset_test = pd.read_csv('Google_Stock_Price_Test.csv')\n",
        "real_stock_price = dataset_test.iloc[: , 1:2].values"
      ],
      "execution_count": 0,
      "outputs": []
    },
    {
      "cell_type": "code",
      "metadata": {
        "id": "8RahL_n_n74k",
        "colab_type": "code",
        "colab": {}
      },
      "source": [
        "# Concatinating train and test data, inorder for the first 60 values of the test time series, to be able \n",
        "# to find their 60 previous values in the dataset.\n",
        "dataset_total = pd.concat((dataset_train['Open'], dataset_test['Open']), axis = 0)\n",
        "inputs = dataset_total[len(dataset_total) - len(dataset_test) - 60:].values"
      ],
      "execution_count": 0,
      "outputs": []
    },
    {
      "cell_type": "code",
      "metadata": {
        "id": "ySUWy7sBn74n",
        "colab_type": "code",
        "colab": {}
      },
      "source": [
        "# Creating the test instances in the same way as before\n",
        "inputs = inputs.reshape(-1,1)\n",
        "inputs = sc.transform(inputs)\n",
        "\n",
        "x_test = []\n",
        "for i in range(60, 80):\n",
        "    x_test.append(inputs[i-60:i, 0])\n",
        "x_test = np.array(x_test)  \n",
        "x_test = np.reshape(x_test,(x_test.shape[0], x_test.shape[1], 1))"
      ],
      "execution_count": 0,
      "outputs": []
    },
    {
      "cell_type": "code",
      "metadata": {
        "id": "7KUDkRmun74q",
        "colab_type": "code",
        "colab": {}
      },
      "source": [
        "# Predicting the time series\n",
        "predicted_stock_price = regressor.predict(x_test)\n",
        "predicted_stock_price = sc.inverse_transform(predicted_stock_price)"
      ],
      "execution_count": 0,
      "outputs": []
    },
    {
      "cell_type": "code",
      "metadata": {
        "id": "LWveZo7hn74v",
        "colab_type": "code",
        "colab": {},
        "outputId": "e132bb04-2571-4087-f33b-7177c733e755"
      },
      "source": [
        "# Visualizing the true and the predicted time series\n",
        "plt.plot(real_stock_price, color = 'red', label = 'Real Google Stock Price')\n",
        "plt.plot(predicted_stock_price, color = 'blue', label = 'Predicted Google Stock Price')\n",
        "plt.title('Google Stock Price Prediction')\n",
        "plt.xlabel('Time')\n",
        "plt.ylabel('Google Stock Price')\n",
        "plt.legend()\n",
        "plt.show"
      ],
      "execution_count": 0,
      "outputs": [
        {
          "output_type": "execute_result",
          "data": {
            "text/plain": [
              "<function matplotlib.pyplot.show(*args, **kw)>"
            ]
          },
          "metadata": {
            "tags": []
          },
          "execution_count": 14
        },
        {
          "output_type": "display_data",
          "data": {
            "image/png": "[encoded data removed]",
            "text/plain": [
              "<Figure size 432x288 with 1 Axes>"
            ]
          },
          "metadata": {
            "tags": [],
            "needs_background": "light"
          }
        }
      ]
    },
    {
      "cell_type": "code",
      "metadata": {
        "id": "Jmc_8Spcn74x",
        "colab_type": "code",
        "colab": {}
      },
      "source": [
        ""
      ],
      "execution_count": 0,
      "outputs": []
    }
  ]
}